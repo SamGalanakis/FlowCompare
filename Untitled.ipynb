{
 "cells": [
  {
   "cell_type": "code",
   "execution_count": 47,
   "id": "dried-failing",
   "metadata": {},
   "outputs": [],
   "source": [
    "import pandas as pd\n",
    "import sklearn as skl\n",
    "from sklearn.linear_model import LogisticRegression\n",
    "from sklearn.preprocessing import LabelEncoder  \n",
    "from sklearn import tree\n",
    "import graphviz \n",
    "import matplotlib.pyplot as plt\n",
    "from sklearn.model_selection import StratifiedShuffleSplit"
   ]
  },
  {
   "cell_type": "code",
   "execution_count": 110,
   "id": "recorded-doubt",
   "metadata": {},
   "outputs": [],
   "source": [
    "import numpy as np\n"
   ]
  },
  {
   "cell_type": "code",
   "execution_count": 111,
   "id": "altered-mobile",
   "metadata": {},
   "outputs": [],
   "source": [
    "df = pd.read_csv('save/processed_dataset/test_features.csv',index_col=0)"
   ]
  },
  {
   "cell_type": "code",
   "execution_count": 112,
   "id": "running-button",
   "metadata": {
    "scrolled": true
   },
   "outputs": [
    {
     "data": {
      "text/html": [
       "<div>\n",
       "<style scoped>\n",
       "    .dataframe tbody tr th:only-of-type {\n",
       "        vertical-align: middle;\n",
       "    }\n",
       "\n",
       "    .dataframe tbody tr th {\n",
       "        vertical-align: top;\n",
       "    }\n",
       "\n",
       "    .dataframe thead th {\n",
       "        text-align: right;\n",
       "    }\n",
       "</style>\n",
       "<table border=\"1\" class=\"dataframe\">\n",
       "  <thead>\n",
       "    <tr style=\"text-align: right;\">\n",
       "      <th></th>\n",
       "      <th>0giv1_0</th>\n",
       "      <th>0giv1_1</th>\n",
       "      <th>0giv1_2</th>\n",
       "      <th>0giv1_3</th>\n",
       "      <th>0giv1_4</th>\n",
       "      <th>0giv1_5</th>\n",
       "      <th>0giv1_6</th>\n",
       "      <th>0giv1_7</th>\n",
       "      <th>0giv1_8</th>\n",
       "      <th>0giv1_9</th>\n",
       "      <th>...</th>\n",
       "      <th>1giv0_3</th>\n",
       "      <th>1giv0_4</th>\n",
       "      <th>1giv0_5</th>\n",
       "      <th>1giv0_6</th>\n",
       "      <th>1giv0_7</th>\n",
       "      <th>1giv0_8</th>\n",
       "      <th>1giv0_9</th>\n",
       "      <th>1giv0_10</th>\n",
       "      <th>1giv0_11</th>\n",
       "      <th>class</th>\n",
       "    </tr>\n",
       "  </thead>\n",
       "  <tbody>\n",
       "    <tr>\n",
       "      <th>0</th>\n",
       "      <td>0.512857</td>\n",
       "      <td>0.307143</td>\n",
       "      <td>0.131429</td>\n",
       "      <td>0.024286</td>\n",
       "      <td>0.010000</td>\n",
       "      <td>0.005714</td>\n",
       "      <td>0.004286</td>\n",
       "      <td>0.000000</td>\n",
       "      <td>0.002857</td>\n",
       "      <td>0.000000</td>\n",
       "      <td>...</td>\n",
       "      <td>0.052478</td>\n",
       "      <td>0.039359</td>\n",
       "      <td>0.027697</td>\n",
       "      <td>0.072886</td>\n",
       "      <td>0.046647</td>\n",
       "      <td>0.027697</td>\n",
       "      <td>0.013120</td>\n",
       "      <td>0.004373</td>\n",
       "      <td>0.000000</td>\n",
       "      <td>nochange</td>\n",
       "    </tr>\n",
       "    <tr>\n",
       "      <th>1</th>\n",
       "      <td>0.260274</td>\n",
       "      <td>0.146119</td>\n",
       "      <td>0.100457</td>\n",
       "      <td>0.086758</td>\n",
       "      <td>0.073059</td>\n",
       "      <td>0.077626</td>\n",
       "      <td>0.086758</td>\n",
       "      <td>0.004566</td>\n",
       "      <td>0.041096</td>\n",
       "      <td>0.027397</td>\n",
       "      <td>...</td>\n",
       "      <td>0.071274</td>\n",
       "      <td>0.017279</td>\n",
       "      <td>0.010799</td>\n",
       "      <td>0.010799</td>\n",
       "      <td>0.004320</td>\n",
       "      <td>0.008639</td>\n",
       "      <td>0.006479</td>\n",
       "      <td>0.002160</td>\n",
       "      <td>0.006479</td>\n",
       "      <td>added</td>\n",
       "    </tr>\n",
       "    <tr>\n",
       "      <th>2</th>\n",
       "      <td>0.456500</td>\n",
       "      <td>0.272500</td>\n",
       "      <td>0.124500</td>\n",
       "      <td>0.055500</td>\n",
       "      <td>0.026500</td>\n",
       "      <td>0.016500</td>\n",
       "      <td>0.010000</td>\n",
       "      <td>0.010500</td>\n",
       "      <td>0.005500</td>\n",
       "      <td>0.006000</td>\n",
       "      <td>...</td>\n",
       "      <td>0.026500</td>\n",
       "      <td>0.019500</td>\n",
       "      <td>0.018000</td>\n",
       "      <td>0.006000</td>\n",
       "      <td>0.008500</td>\n",
       "      <td>0.005000</td>\n",
       "      <td>0.005000</td>\n",
       "      <td>0.001000</td>\n",
       "      <td>0.000500</td>\n",
       "      <td>change</td>\n",
       "    </tr>\n",
       "    <tr>\n",
       "      <th>3</th>\n",
       "      <td>0.106897</td>\n",
       "      <td>0.175862</td>\n",
       "      <td>0.189655</td>\n",
       "      <td>0.224138</td>\n",
       "      <td>0.100000</td>\n",
       "      <td>0.055172</td>\n",
       "      <td>0.037931</td>\n",
       "      <td>0.037931</td>\n",
       "      <td>0.010345</td>\n",
       "      <td>0.017241</td>\n",
       "      <td>...</td>\n",
       "      <td>0.090909</td>\n",
       "      <td>0.151515</td>\n",
       "      <td>0.060606</td>\n",
       "      <td>0.030303</td>\n",
       "      <td>0.000000</td>\n",
       "      <td>0.000000</td>\n",
       "      <td>0.000000</td>\n",
       "      <td>0.000000</td>\n",
       "      <td>0.000000</td>\n",
       "      <td>removed</td>\n",
       "    </tr>\n",
       "    <tr>\n",
       "      <th>4</th>\n",
       "      <td>0.395000</td>\n",
       "      <td>0.259000</td>\n",
       "      <td>0.159500</td>\n",
       "      <td>0.078000</td>\n",
       "      <td>0.045000</td>\n",
       "      <td>0.041500</td>\n",
       "      <td>0.014000</td>\n",
       "      <td>0.003500</td>\n",
       "      <td>0.001500</td>\n",
       "      <td>0.002000</td>\n",
       "      <td>...</td>\n",
       "      <td>0.119792</td>\n",
       "      <td>0.097656</td>\n",
       "      <td>0.070312</td>\n",
       "      <td>0.027344</td>\n",
       "      <td>0.016276</td>\n",
       "      <td>0.006510</td>\n",
       "      <td>0.007812</td>\n",
       "      <td>0.007812</td>\n",
       "      <td>0.006510</td>\n",
       "      <td>nochange</td>\n",
       "    </tr>\n",
       "  </tbody>\n",
       "</table>\n",
       "<p>5 rows × 25 columns</p>\n",
       "</div>"
      ],
      "text/plain": [
       "    0giv1_0   0giv1_1   0giv1_2   0giv1_3   0giv1_4   0giv1_5   0giv1_6  \\\n",
       "0  0.512857  0.307143  0.131429  0.024286  0.010000  0.005714  0.004286   \n",
       "1  0.260274  0.146119  0.100457  0.086758  0.073059  0.077626  0.086758   \n",
       "2  0.456500  0.272500  0.124500  0.055500  0.026500  0.016500  0.010000   \n",
       "3  0.106897  0.175862  0.189655  0.224138  0.100000  0.055172  0.037931   \n",
       "4  0.395000  0.259000  0.159500  0.078000  0.045000  0.041500  0.014000   \n",
       "\n",
       "    0giv1_7   0giv1_8   0giv1_9  ...   1giv0_3   1giv0_4   1giv0_5   1giv0_6  \\\n",
       "0  0.000000  0.002857  0.000000  ...  0.052478  0.039359  0.027697  0.072886   \n",
       "1  0.004566  0.041096  0.027397  ...  0.071274  0.017279  0.010799  0.010799   \n",
       "2  0.010500  0.005500  0.006000  ...  0.026500  0.019500  0.018000  0.006000   \n",
       "3  0.037931  0.010345  0.017241  ...  0.090909  0.151515  0.060606  0.030303   \n",
       "4  0.003500  0.001500  0.002000  ...  0.119792  0.097656  0.070312  0.027344   \n",
       "\n",
       "    1giv0_7   1giv0_8   1giv0_9  1giv0_10  1giv0_11     class  \n",
       "0  0.046647  0.027697  0.013120  0.004373  0.000000  nochange  \n",
       "1  0.004320  0.008639  0.006479  0.002160  0.006479     added  \n",
       "2  0.008500  0.005000  0.005000  0.001000  0.000500    change  \n",
       "3  0.000000  0.000000  0.000000  0.000000  0.000000   removed  \n",
       "4  0.016276  0.006510  0.007812  0.007812  0.006510  nochange  \n",
       "\n",
       "[5 rows x 25 columns]"
      ]
     },
     "execution_count": 112,
     "metadata": {},
     "output_type": "execute_result"
    }
   ],
   "source": [
    "df.head(5)\n"
   ]
  },
  {
   "cell_type": "code",
   "execution_count": 113,
   "id": "statutory-links",
   "metadata": {},
   "outputs": [],
   "source": [
    "df['class'] = df['class'].apply(lambda x:'change' if x!='nochange' else 'nochange')"
   ]
  },
  {
   "cell_type": "code",
   "execution_count": 114,
   "id": "minute-learning",
   "metadata": {},
   "outputs": [],
   "source": [
    "le = LabelEncoder()\n",
    "y = le.fit_transform(df['class'])"
   ]
  },
  {
   "cell_type": "code",
   "execution_count": 115,
   "id": "thermal-constant",
   "metadata": {},
   "outputs": [
    {
     "data": {
      "text/plain": [
       "array(['nochange', 'change'], dtype=object)"
      ]
     },
     "execution_count": 115,
     "metadata": {},
     "output_type": "execute_result"
    }
   ],
   "source": [
    "df['class'].unique()"
   ]
  },
  {
   "cell_type": "code",
   "execution_count": 116,
   "id": "essential-atmosphere",
   "metadata": {},
   "outputs": [],
   "source": [
    "x = df[df.columns[:-1]].values\n"
   ]
  },
  {
   "cell_type": "code",
   "execution_count": 117,
   "id": "standard-blues",
   "metadata": {},
   "outputs": [
    {
     "data": {
      "text/plain": [
       "array(['change', 'nochange'], dtype=object)"
      ]
     },
     "execution_count": 117,
     "metadata": {},
     "output_type": "execute_result"
    }
   ],
   "source": [
    " le.inverse_transform(np.array(range(0,len(df['class'].unique()))))"
   ]
  },
  {
   "cell_type": "code",
   "execution_count": 126,
   "id": "biblical-yugoslavia",
   "metadata": {},
   "outputs": [],
   "source": [
    "clf  = tree.DecisionTreeClassifier(max_depth=2)\n",
    "clf.fit(x,y)\n",
    "results = clf.predict(x)"
   ]
  },
  {
   "cell_type": "code",
   "execution_count": 127,
   "id": "animal-handy",
   "metadata": {},
   "outputs": [],
   "source": [
    "accuracy = (results == y).sum()/ len(y)"
   ]
  },
  {
   "cell_type": "code",
   "execution_count": 128,
   "id": "contemporary-treasurer",
   "metadata": {},
   "outputs": [
    {
     "data": {
      "text/plain": [
       "0.6688311688311688"
      ]
     },
     "execution_count": 128,
     "metadata": {},
     "output_type": "execute_result"
    }
   ],
   "source": [
    "accuracy"
   ]
  },
  {
   "cell_type": "code",
   "execution_count": 129,
   "id": "mediterranean-daughter",
   "metadata": {
    "scrolled": false
   },
   "outputs": [
    {
     "data": {
      "text/plain": [
       "[Text(558.0, 1359.0, 'X[10] <= 0.001\\ngini = 0.486\\nsamples = 154\\nvalue = [64, 90]\\nclass = y[1]'),\n",
       " Text(279.0, 815.3999999999999, 'X[23] <= 0.014\\ngini = 0.278\\nsamples = 48\\nvalue = [8, 40]\\nclass = y[1]'),\n",
       " Text(139.5, 271.79999999999995, 'gini = 0.176\\nsamples = 41\\nvalue = [4, 37]\\nclass = y[1]'),\n",
       " Text(418.5, 271.79999999999995, 'gini = 0.49\\nsamples = 7\\nvalue = [4, 3]\\nclass = y[0]'),\n",
       " Text(837.0, 815.3999999999999, 'X[2] <= 0.087\\ngini = 0.498\\nsamples = 106\\nvalue = [56, 50]\\nclass = y[0]'),\n",
       " Text(697.5, 271.79999999999995, 'gini = 0.133\\nsamples = 14\\nvalue = [13, 1]\\nclass = y[0]'),\n",
       " Text(976.5, 271.79999999999995, 'gini = 0.498\\nsamples = 92\\nvalue = [43, 49]\\nclass = y[1]')]"
      ]
     },
     "execution_count": 129,
     "metadata": {},
     "output_type": "execute_result"
    },
    {
     "data": {
      "image/png": "[encoded data removed]",
      "text/plain": [
       "<Figure size 1440x2160 with 1 Axes>"
      ]
     },
     "metadata": {
      "needs_background": "light"
     },
     "output_type": "display_data"
    }
   ],
   "source": [
    "plt.figure(figsize=(20,30))\n",
    "tree.plot_tree(clf,fontsize=10,class_names = True)"
   ]
  },
  {
   "cell_type": "code",
   "execution_count": 125,
   "id": "industrial-moses",
   "metadata": {},
   "outputs": [
    {
     "name": "stdout",
     "output_type": "stream",
     "text": [
      "TRAIN: [128  92  35  77   5  26 136   9  86  90  84  15  39  65  41 127  57 151\n",
      "  83 101  30  29  70 119 122  63  81  19  66   8  50 146  42  96 110  79\n",
      "  71  24 118  44  60 129  36  94 130  22  21 105 120 115  23 102  32  82\n",
      "  62 109  10 150  59  73  97  20  38  76   2  56 125  72 104 106 138  28\n",
      "  89  53  25  46 131  37 143  51  12 149  58 148 114 137  75  40 113  16\n",
      "  52  93 132  47 153 142  85 121   0  78 112 107 124  43  17 103   6 100\n",
      " 144 135 147  27  49 152  33  31  45  34 139  55   3 141 123  80  13 134\n",
      " 126  48  67  18  88 116  64  87 140  74  95  14] TEST: [ 98 133   7 111  91  99  69  68 117 145   1   4  54  11  61 108]\n",
      "TRAIN: [ 65  82 108 117  49  19 153  95  75  61 152   6 128  92 149 101  10  13\n",
      "  29 127  60  72 113 141  83 135  35  22 151  80  58 133  54 137  23  38\n",
      "   5  43 132 104  27  31 130 126  39 122  91 107  40 116  87  63  30 148\n",
      " 129 110  77  33  94  76  32  86  34   2  42 123 114 120  85 143  45  90\n",
      "  68  59 118  69  52  78  28   8 147  50 121 146  21  12  46  16 145 115\n",
      " 124  56 125  66   0  17 100  48 142  51  36   3 134 112  55  18  97 103\n",
      " 144  62  26  14 139  37   4  89 105  81  41  71  57 109  11   7  24  98\n",
      " 131  20  15   9  79  67 140  74 136 150  64  88] TEST: [ 44  70 119  53 111  47  84  25   1  73  99  96 102 106  93 138]\n",
      "TRAIN: [ 34 101  88   5 140 110  32  21  73  54 106  97 125 129 105  15  63 151\n",
      " 137 103  20  43  33 142  90 116  58 119  67  39 143  55 122  22 112  29\n",
      "  23 131 124  35  18 128  48  11 141  87 132  49  94 114 121  16  79 147\n",
      " 117 111  12   2 107  95  37 108  36  62  61  81  78 100 130   3 118 144\n",
      "  59  51  70  83   0  27  96 138  76  84 153 150  85  98  72  26  60 133\n",
      "   8  74  38  80 136  66  53  46  45 113 115 152 148  57  56  93  44  64\n",
      "   4  19  17  30  14  28  31  24  71  50  75  99 104 146 135 126  42  68\n",
      "   9 139  65 120  69 102   1 149  41  89  91  13] TEST: [ 92 109 123  40 145   6  47  82  77  10   7  25 134 127  86  52]\n",
      "TRAIN: [ 71  10 135  43  86  41  89  15  20 132  25 113  63 122  53  26  66  96\n",
      "  30  75   1 147  82   9  42 121  92  33 136  22 119  51  61 104  11 127\n",
      "  31  72  13  68 130  49 118  50 152  95 107 123  32 145  69  35  37 125\n",
      "  27  28 111  46  56   8  29 138  34 109 120 150  21  17  62 110  59 126\n",
      " 102 129   4 117  60 148  39 137  45 103 140  54 146   2 153 133  84   0\n",
      "  90  77  12  98  67  97 151 106  14  78 141  73  52  70 139  55 124 149\n",
      "  38 114 101  18 112   3 115  88  93 143  40  23  80  64 134 108  24 144\n",
      " 131 100  99  48 105  65  58  47  83  79  94  74] TEST: [142 128   7  19 116  87  57  36  91  81   6  44   5  85  16  76]\n",
      "TRAIN: [ 10  21  67 146 151  89  53   3  31  77 149  18  82 150 121  91 147  64\n",
      "  85  76 132  88 123 125  79  44  11  28  60   8 141   0  30  81  52  41\n",
      " 101 131  78  97 117 104  98 105 139  42 122 103 136  84  90  95  20  63\n",
      " 129  25 138  13 108  87 118 140 152  38 106  80 144 153  72   9  15 142\n",
      "  16  96  40  39  46  23 137  68 133   6 120 128  50  69 134  56  65 114\n",
      "   5  83  70  26  43   2  54 145 113  27 124 102 143  59  58  29 100  34\n",
      "  86 130  33  49  48  47 116  71  12   7  66  24 148  17  92 127 119  37\n",
      "  19  32 135  22  73 115 126  57 107  61  93  36] TEST: [ 94  45  99  35 111 109  55  74  62   1 110  51   4  75 112  14]\n",
      "TRAIN: [ 86  64 133  60  13 109  49 147  42  45 138 153  74 125  11  84  32 142\n",
      "  87  54  17  71  22   8  44  39   7  81 130  98  33  10  57  63   9   6\n",
      "   5   4  76  83  68  34  20 126  29  88 117  16 121  94  69  99  90 100\n",
      " 108  67  96  50 148 116 140  27  46  43  24  41 146  62  19  73  21  53\n",
      "  78  55 102  80  12 112   2  47  48  95 114  79 123 150  85  36  28 137\n",
      "  58  25  30 149 120  72  40 134  92  61 139  23  26 152 115 118  93  52\n",
      " 131  51 124   1 129 143  37  91 107  75  31 104  38 132 111  65 145  89\n",
      "  77  14 103 106  56 101 113 151 127   3  35  70] TEST: [144  97 141  82 136   0 122  59 110  66 135 128 119  18  15 105]\n",
      "TRAIN: [136 135  91   3  74  97  83  60  61 142 105 122   4 106  43 117  52  62\n",
      "  90  21  50 102 144   7  30 101  28  72  48 100 110 143  38 150  94  64\n",
      "  10  87  41  57  81  76  70 133  11 149 131  46   9  29 118 128  17  15\n",
      "  20  69 147 151  59 123  92  66  13  44  37  79 111 103 153 114 137  23\n",
      "  71  73  56  93  99  47   1 107  22  51  68 112 152  82  96  18  14  95\n",
      " 126 125 139 121  65  36  84  26 129  27  58  86   0  89 127  34  40 148\n",
      "  32  85  33   2  42  16 138  12 108  54  24  98  49  67  39 115   8  78\n",
      " 141  25  55  35 119 116 130  88 132  80 113  75] TEST: [ 45  31 109 124 134  77  63 120 140 145   5 146   6  19 104  53]\n",
      "TRAIN: [151  70 125 141 111 123  31 136  50   0  82 108 148  60 152   7  83  99\n",
      "  10  11  96 121  21 107 117 139 133  22  38  79  45 129 109  18  35  33\n",
      "  57  85  65  77  13 132  26  90   4  86  12 147  88 153  41  43  98  89\n",
      "  47  75  36 143 146  48  95 114  27  81 104 135 131  72  76   3 140 134\n",
      " 128   8  25  23 127 119  34  46  94  55   5  59 113  24 101   6 137  80\n",
      "   1  32  52 100  58   2  74  40  17  44  19  62  68  64  30  37  49  69\n",
      "  56 102  42 118  66  93 144 149  28 105 124  51  91  84 115 130  39   9\n",
      "  97 150 122  67 142  61 126 116  71  53  73  63] TEST: [103  16 106  78  20  87  92  15 145 138  14 110  54 120  29 112]\n",
      "TRAIN: [ 30 104  69  94  37  97  91  51 132  59   1  63 108  15 131 147  76  68\n",
      " 118  85  43  41  17  18  26  95 127  34 113 100  86 120  36 103  57 145\n",
      " 125  90  52   4  40  14  48 151 128  31   7  70  65 141  60  98 105  44\n",
      " 130 140  53 114  62  56  82 124  47  16 107  71  78 134 135  77 117 153\n",
      "  50  25  87  19  20   2  74  21 123 102  32  54 146  55  58 115  96  83\n",
      " 121  89  64 111 137  67   5 112  93  12  73   0 126 133  11  88  81  45\n",
      " 150 122   9  39  80 109  84  10 101 106  72 149  22   8 143  42  13  33\n",
      " 138  35  75  79  29 148  99  27   6 119  28 110] TEST: [ 61 139  46  23   3 144 136  24 152  66  49 116 129  92  38 142]\n",
      "TRAIN: [ 76 139  38  84  31  33 104 116 146  28  87  30 108  95 153  80  86 113\n",
      "  34  91 134  37  46  24 141 126 127  13  97   3 144 148 135 103  77  94\n",
      "  61 128  93  26  98  35 132 125  19  70  43 119  59  82  22   7  45  74\n",
      " 100  81  47  39 110 140  67  60  12   4  92 150  54  85  56  17  71  99\n",
      "   1  16 101  44  15  89 123 137  20  63   9 136  53  23  78 147  65  11\n",
      "  42 117   5 142 149 143  52  48  14   0 131 107 130 122  18 145  32  57\n",
      " 115  73  88 121  79   2 112  50  64 111  58 138  55 152  10 129  41  96\n",
      " 118   8  40  66 120  69 133  68  62 114  75 151] TEST: [102  49 109  83 105  72  36  51  90 124   6  27  25  29  21 106]\n",
      "0.49375\n"
     ]
    }
   ],
   "source": [
    "sss = StratifiedShuffleSplit(n_splits=10, test_size=0.1, random_state=0)\n",
    "sss.get_n_splits(x, y)\n",
    "accs=[]\n",
    "for train_index, test_index in sss.split(x, y):\n",
    "    print(\"TRAIN:\", train_index, \"TEST:\", test_index)\n",
    "    \n",
    "    X_train, X_test = x[train_index], x[test_index]\n",
    "    y_train, y_test = y[train_index], y[test_index]\n",
    "    clf  = tree.DecisionTreeClassifier(max_depth=1)\n",
    "    clf.fit(X_train,y_train)\n",
    "    y_pred = clf.predict(X_test)\n",
    "    accs.append(sum(y_pred==y_test)/len(y_pred))\n",
    "print(sum(accs)/len(accs))"
   ]
  },
  {
   "cell_type": "code",
   "execution_count": null,
   "id": "broke-poetry",
   "metadata": {},
   "outputs": [],
   "source": []
  },
  {
   "cell_type": "code",
   "execution_count": null,
   "id": "asian-pension",
   "metadata": {},
   "outputs": [],
   "source": []
  },
  {
   "cell_type": "code",
   "execution_count": null,
   "id": "chemical-hurricane",
   "metadata": {},
   "outputs": [],
   "source": []
  },
  {
   "cell_type": "code",
   "execution_count": null,
   "id": "advisory-roller",
   "metadata": {},
   "outputs": [],
   "source": []
  },
  {
   "cell_type": "code",
   "execution_count": null,
   "id": "answering-rouge",
   "metadata": {},
   "outputs": [],
   "source": []
  },
  {
   "cell_type": "code",
   "execution_count": null,
   "id": "rapid-western",
   "metadata": {},
   "outputs": [],
   "source": []
  },
  {
   "cell_type": "code",
   "execution_count": null,
   "id": "decreased-kingdom",
   "metadata": {},
   "outputs": [],
   "source": []
  }
 ],
 "metadata": {
  "kernelspec": {
   "display_name": "Python 3",
   "language": "python",
   "name": "python3"
  },
  "language_info": {
   "codemirror_mode": {
    "name": "ipython",
    "version": 3
   },
   "file_extension": ".py",
   "mimetype": "text/x-python",
   "name": "python",
   "nbconvert_exporter": "python",
   "pygments_lexer": "ipython3",
   "version": "3.6.9"
  }
 },
 "nbformat": 4,
 "nbformat_minor": 5
}
